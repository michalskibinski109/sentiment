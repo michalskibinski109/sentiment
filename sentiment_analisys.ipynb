{
 "cells": [
  {
   "cell_type": "code",
   "execution_count": 1,
   "metadata": {},
   "outputs": [
    {
     "name": "stderr",
     "output_type": "stream",
     "text": [
      "Using region Lower Silesia server backend.\n",
      "c:\\Users\\miskibin\\AppData\\Local\\Programs\\Python\\Python310\\lib\\site-packages\\tqdm\\auto.py:21: TqdmWarning: IProgress not found. Please update jupyter and ipywidgets. See https://ipywidgets.readthedocs.io/en/stable/user_install.html\n",
      "  from .autonotebook import tqdm as notebook_tqdm\n"
     ]
    }
   ],
   "source": [
    "import pandas as pd\n",
    "from langdetect import detect\n",
    "import numpy as np\n",
    "from tqdm import tqdm\n",
    "from time import sleep\n",
    "import matplotlib.pyplot as plt\n",
    "import translators as ts\n",
    "from transformers import pipeline\n",
    "from miskibin import get_logger\n",
    "logger = get_logger(__name__)\n",
    "from requests.exceptions import HTTPError\n",
    "import argostranslate.package\n",
    "import argostranslate.translate"
   ]
  },
  {
   "cell_type": "code",
   "execution_count": 2,
   "metadata": {},
   "outputs": [
    {
     "data": {
      "text/html": [
       "<div>\n",
       "<style scoped>\n",
       "    .dataframe tbody tr th:only-of-type {\n",
       "        vertical-align: middle;\n",
       "    }\n",
       "\n",
       "    .dataframe tbody tr th {\n",
       "        vertical-align: top;\n",
       "    }\n",
       "\n",
       "    .dataframe thead th {\n",
       "        text-align: right;\n",
       "    }\n",
       "</style>\n",
       "<table border=\"1\" class=\"dataframe\">\n",
       "  <thead>\n",
       "    <tr style=\"text-align: right;\">\n",
       "      <th></th>\n",
       "      <th>listing_id</th>\n",
       "      <th>comments</th>\n",
       "    </tr>\n",
       "    <tr>\n",
       "      <th>id</th>\n",
       "      <th></th>\n",
       "      <th></th>\n",
       "    </tr>\n",
       "  </thead>\n",
       "  <tbody>\n",
       "    <tr>\n",
       "      <th>161221787</th>\n",
       "      <td>445660</td>\n",
       "      <td>Very close to tram stops which made it easy to...</td>\n",
       "    </tr>\n",
       "    <tr>\n",
       "      <th>162008966</th>\n",
       "      <td>445660</td>\n",
       "      <td>Heleen is a great and super kind host. Very ca...</td>\n",
       "    </tr>\n",
       "    <tr>\n",
       "      <th>108465506</th>\n",
       "      <td>20168</td>\n",
       "      <td>Alex was very welcoming, gave instructions how...</td>\n",
       "    </tr>\n",
       "    <tr>\n",
       "      <th>109101247</th>\n",
       "      <td>20168</td>\n",
       "      <td>He allowed us to check in an hour earlier whic...</td>\n",
       "    </tr>\n",
       "    <tr>\n",
       "      <th>109701581</th>\n",
       "      <td>20168</td>\n",
       "      <td>I felt like we were lucky to stay in such a ce...</td>\n",
       "    </tr>\n",
       "  </tbody>\n",
       "</table>\n",
       "</div>"
      ],
      "text/plain": [
       "           listing_id                                           comments\n",
       "id                                                                      \n",
       "161221787      445660  Very close to tram stops which made it easy to...\n",
       "162008966      445660  Heleen is a great and super kind host. Very ca...\n",
       "108465506       20168  Alex was very welcoming, gave instructions how...\n",
       "109101247       20168  He allowed us to check in an hour earlier whic...\n",
       "109701581       20168  I felt like we were lucky to stay in such a ce..."
      ]
     },
     "execution_count": 2,
     "metadata": {},
     "output_type": "execute_result"
    }
   ],
   "source": [
    "file = 'reviews.csv'\n",
    "df = pd.read_csv(file)\n",
    "# set id as index\n",
    "df.set_index('id', inplace=True)\n",
    "# drop duplicates\n",
    "df.drop_duplicates(inplace=True)\n",
    "# drop null values\n",
    "df.dropna(inplace=True)\n",
    "# drop date, reviewer_id, reviewer_name\n",
    "df = df.drop(['date', 'reviewer_id', 'reviewer_name'], axis=1)\n",
    "df.head()"
   ]
  },
  {
   "cell_type": "code",
   "execution_count": 3,
   "metadata": {},
   "outputs": [],
   "source": [
    "# save to csv\n",
    "df.to_csv('reviews.csv')"
   ]
  },
  {
   "cell_type": "code",
   "execution_count": 3,
   "metadata": {},
   "outputs": [
    {
     "data": {
      "text/plain": [
       "(array([3.31285e+05, 0.00000e+00, 0.00000e+00, 0.00000e+00, 0.00000e+00,\n",
       "        0.00000e+00, 0.00000e+00, 0.00000e+00, 0.00000e+00, 0.00000e+00,\n",
       "        0.00000e+00, 0.00000e+00, 0.00000e+00, 0.00000e+00, 0.00000e+00,\n",
       "        0.00000e+00, 0.00000e+00, 0.00000e+00, 0.00000e+00, 0.00000e+00,\n",
       "        0.00000e+00, 0.00000e+00, 0.00000e+00, 0.00000e+00, 0.00000e+00,\n",
       "        0.00000e+00, 0.00000e+00, 0.00000e+00, 0.00000e+00, 0.00000e+00,\n",
       "        0.00000e+00, 0.00000e+00, 0.00000e+00, 0.00000e+00, 0.00000e+00,\n",
       "        0.00000e+00, 0.00000e+00, 0.00000e+00, 0.00000e+00, 0.00000e+00,\n",
       "        0.00000e+00, 0.00000e+00, 0.00000e+00, 0.00000e+00, 0.00000e+00,\n",
       "        0.00000e+00, 0.00000e+00, 0.00000e+00, 0.00000e+00, 0.00000e+00,\n",
       "        0.00000e+00, 0.00000e+00, 0.00000e+00, 0.00000e+00, 0.00000e+00,\n",
       "        0.00000e+00, 0.00000e+00, 0.00000e+00, 0.00000e+00, 7.00000e+01,\n",
       "        0.00000e+00, 2.00000e+00, 0.00000e+00, 7.00000e+00, 1.90000e+01,\n",
       "        2.31000e+02, 2.82000e+02, 1.33000e+02, 2.35000e+02, 2.81000e+02,\n",
       "        2.09000e+02, 5.83000e+02, 2.28000e+02, 3.25000e+02, 4.11000e+02,\n",
       "        4.31000e+02, 3.79000e+02, 4.35000e+02, 4.94000e+02, 3.21000e+02,\n",
       "        4.43000e+02, 2.38000e+02, 2.08000e+02, 3.16000e+02, 3.62000e+02,\n",
       "        2.81000e+02, 2.95000e+02, 2.89000e+02, 1.94000e+02, 1.51000e+02,\n",
       "        1.36000e+02, 1.00000e+02, 1.68000e+02, 7.40000e+01, 4.20000e+01,\n",
       "        4.70000e+01, 4.60000e+01, 2.20000e+01, 9.00000e+00, 4.00000e+00]),\n",
       " array([2.81800000e+03, 8.36354866e+15, 1.67270973e+16, 2.50906460e+16,\n",
       "        3.34541947e+16, 4.18177433e+16, 5.01812920e+16, 5.85448407e+16,\n",
       "        6.69083893e+16, 7.52719380e+16, 8.36354866e+16, 9.19990353e+16,\n",
       "        1.00362584e+17, 1.08726133e+17, 1.17089681e+17, 1.25453230e+17,\n",
       "        1.33816779e+17, 1.42180327e+17, 1.50543876e+17, 1.58907425e+17,\n",
       "        1.67270973e+17, 1.75634522e+17, 1.83998071e+17, 1.92361619e+17,\n",
       "        2.00725168e+17, 2.09088717e+17, 2.17452265e+17, 2.25815814e+17,\n",
       "        2.34179363e+17, 2.42542911e+17, 2.50906460e+17, 2.59270009e+17,\n",
       "        2.67633557e+17, 2.75997106e+17, 2.84360655e+17, 2.92724203e+17,\n",
       "        3.01087752e+17, 3.09451301e+17, 3.17814849e+17, 3.26178398e+17,\n",
       "        3.34541947e+17, 3.42905495e+17, 3.51269044e+17, 3.59632593e+17,\n",
       "        3.67996141e+17, 3.76359690e+17, 3.84723239e+17, 3.93086787e+17,\n",
       "        4.01450336e+17, 4.09813885e+17, 4.18177433e+17, 4.26540982e+17,\n",
       "        4.34904531e+17, 4.43268079e+17, 4.51631628e+17, 4.59995177e+17,\n",
       "        4.68358725e+17, 4.76722274e+17, 4.85085823e+17, 4.93449371e+17,\n",
       "        5.01812920e+17, 5.10176469e+17, 5.18540017e+17, 5.26903566e+17,\n",
       "        5.35267115e+17, 5.43630663e+17, 5.51994212e+17, 5.60357761e+17,\n",
       "        5.68721309e+17, 5.77084858e+17, 5.85448407e+17, 5.93811955e+17,\n",
       "        6.02175504e+17, 6.10539053e+17, 6.18902601e+17, 6.27266150e+17,\n",
       "        6.35629699e+17, 6.43993247e+17, 6.52356796e+17, 6.60720344e+17,\n",
       "        6.69083893e+17, 6.77447442e+17, 6.85810990e+17, 6.94174539e+17,\n",
       "        7.02538088e+17, 7.10901636e+17, 7.19265185e+17, 7.27628734e+17,\n",
       "        7.35992282e+17, 7.44355831e+17, 7.52719380e+17, 7.61082928e+17,\n",
       "        7.69446477e+17, 7.77810026e+17, 7.86173574e+17, 7.94537123e+17,\n",
       "        8.02900672e+17, 8.11264220e+17, 8.19627769e+17, 8.27991318e+17,\n",
       "        8.36354866e+17]),\n",
       " <BarContainer object of 100 artists>)"
      ]
     },
     "execution_count": 3,
     "metadata": {},
     "output_type": "execute_result"
    },
    {
     "data": {
      "image/png": "[encoded data removed]",
      "text/plain": [
       "<Figure size 640x480 with 1 Axes>"
      ]
     },
     "metadata": {},
     "output_type": "display_data"
    }
   ],
   "source": [
    "#plot listing_id distribution\n",
    "plt.hist(df['listing_id'], bins=100)"
   ]
  },
  {
   "cell_type": "code",
   "execution_count": 4,
   "metadata": {},
   "outputs": [],
   "source": [
    "# cast comments to string\n",
    "df = df[df['comments'].notnull()]\n",
    "df['comments'] = df['comments'].astype(str)"
   ]
  },
  {
   "cell_type": "code",
   "execution_count": 5,
   "metadata": {},
   "outputs": [],
   "source": [
    "def translate_to_en(phrase: str, source_lang) -> str:\n",
    "    if not isinstance(phrase, str):\n",
    "        return np.nan\n",
    "    try:\n",
    "        translatedText = argostranslate.translate.translate(phrase, source_lang, 'en')\n",
    "    except Exception as e:\n",
    "        return np.nan    # Translate\n",
    "    return translatedText\n",
    "    new_df = pd.DataFrame(columns=['idx', 'original_review', 'translated_review', 'sentiment', 'confidence'])\n"
   ]
  },
  {
   "cell_type": "code",
   "execution_count": 7,
   "metadata": {},
   "outputs": [],
   "source": [
    "file = 'new_reviews.csv'\n",
    "temp_df = pd.DataFrame(columns=['index', 'original_review', 'translated_review'])\n",
    "temp_df.to_csv(file, index=False)\n",
    "last_i = 10600"
   ]
  },
  {
   "cell_type": "code",
   "execution_count": 8,
   "metadata": {},
   "outputs": [
    {
     "name": "stderr",
     "output_type": "stream",
     "text": [
      "comment: Daniel,         | 486/339786 [01:43<32:35:56,  2.89it/s]                               \n",
      " \n",
      "comment: Liebe Susanne,  | 3159/339786 [12:30<25:01:23,  3.74it/s]                               \n",
      "comment:    1%|          | 4139/339786 [16:24<50:57:12,  1.83it/s]                               \n",
      "comment: Hallo Mirjam,   | 8162/339786 [29:00<15:35:01,  5.91it/s]                               \n",
      "comment: Merci!▎         | 9371/339786 [32:25<2:23:59, 38.25it/s]                                \n",
      "comment: В Амстердаме на:   3%|▎         | 10629/339786 [34:05<42:00:21,  2.18it/s]               "
     ]
    },
    {
     "ename": "KeyboardInterrupt",
     "evalue": "",
     "output_type": "error",
     "traceback": [
      "\u001b[1;31m---------------------------------------------------------------------------\u001b[0m",
      "\u001b[1;31mKeyboardInterrupt\u001b[0m                         Traceback (most recent call last)",
      "\u001b[1;32mc:\\Users\\miskibin\\Desktop\\sentiment\\sentiment_analisys.ipynb Cell 7\u001b[0m in \u001b[0;36m1\n\u001b[0;32m     <a href='vscode-notebook-cell:/c%3A/Users/miskibin/Desktop/sentiment/sentiment_analisys.ipynb#W6sZmlsZQ%3D%3D?line=14'>15</a>\u001b[0m \u001b[39mif\u001b[39;00m lang \u001b[39m!=\u001b[39m \u001b[39m'\u001b[39m\u001b[39men\u001b[39m\u001b[39m'\u001b[39m:\n\u001b[0;32m     <a href='vscode-notebook-cell:/c%3A/Users/miskibin/Desktop/sentiment/sentiment_analisys.ipynb#W6sZmlsZQ%3D%3D?line=15'>16</a>\u001b[0m     bar\u001b[39m.\u001b[39mset_description(\u001b[39mf\u001b[39m\u001b[39m\"\u001b[39m\u001b[39mcomment: \u001b[39m\u001b[39m{\u001b[39;00mcomment[:\u001b[39m15\u001b[39m]\u001b[39m}\u001b[39;00m\u001b[39m\"\u001b[39m)\n\u001b[1;32m---> <a href='vscode-notebook-cell:/c%3A/Users/miskibin/Desktop/sentiment/sentiment_analisys.ipynb#W6sZmlsZQ%3D%3D?line=16'>17</a>\u001b[0m     translated_comment \u001b[39m=\u001b[39m translate_to_en(comment, source_lang\u001b[39m=\u001b[39mlang)\n\u001b[0;32m     <a href='vscode-notebook-cell:/c%3A/Users/miskibin/Desktop/sentiment/sentiment_analisys.ipynb#W6sZmlsZQ%3D%3D?line=17'>18</a>\u001b[0m \u001b[39melse\u001b[39;00m:\n\u001b[0;32m     <a href='vscode-notebook-cell:/c%3A/Users/miskibin/Desktop/sentiment/sentiment_analisys.ipynb#W6sZmlsZQ%3D%3D?line=18'>19</a>\u001b[0m     translated_comment \u001b[39m=\u001b[39m \u001b[39mNone\u001b[39;00m\n",
      "\u001b[1;32mc:\\Users\\miskibin\\Desktop\\sentiment\\sentiment_analisys.ipynb Cell 7\u001b[0m in \u001b[0;36m5\n\u001b[0;32m      <a href='vscode-notebook-cell:/c%3A/Users/miskibin/Desktop/sentiment/sentiment_analisys.ipynb#W6sZmlsZQ%3D%3D?line=2'>3</a>\u001b[0m     \u001b[39mreturn\u001b[39;00m np\u001b[39m.\u001b[39mnan\n\u001b[0;32m      <a href='vscode-notebook-cell:/c%3A/Users/miskibin/Desktop/sentiment/sentiment_analisys.ipynb#W6sZmlsZQ%3D%3D?line=3'>4</a>\u001b[0m \u001b[39mtry\u001b[39;00m:\n\u001b[1;32m----> <a href='vscode-notebook-cell:/c%3A/Users/miskibin/Desktop/sentiment/sentiment_analisys.ipynb#W6sZmlsZQ%3D%3D?line=4'>5</a>\u001b[0m     translatedText \u001b[39m=\u001b[39m argostranslate\u001b[39m.\u001b[39;49mtranslate\u001b[39m.\u001b[39;49mtranslate(phrase, source_lang, \u001b[39m'\u001b[39;49m\u001b[39men\u001b[39;49m\u001b[39m'\u001b[39;49m)\n\u001b[0;32m      <a href='vscode-notebook-cell:/c%3A/Users/miskibin/Desktop/sentiment/sentiment_analisys.ipynb#W6sZmlsZQ%3D%3D?line=5'>6</a>\u001b[0m \u001b[39mexcept\u001b[39;00m \u001b[39mException\u001b[39;00m \u001b[39mas\u001b[39;00m e:\n\u001b[0;32m      <a href='vscode-notebook-cell:/c%3A/Users/miskibin/Desktop/sentiment/sentiment_analisys.ipynb#W6sZmlsZQ%3D%3D?line=6'>7</a>\u001b[0m     \u001b[39mreturn\u001b[39;00m np\u001b[39m.\u001b[39mnan    \u001b[39m# Translate\u001b[39;00m\n",
      "File \u001b[1;32mc:\\Users\\miskibin\\AppData\\Local\\Programs\\Python\\Python310\\lib\\site-packages\\argostranslate\\translate.py:646\u001b[0m, in \u001b[0;36mtranslate\u001b[1;34m(q, from_code, to_code)\u001b[0m\n\u001b[0;32m    635\u001b[0m \u001b[39m\"\"\"Translate a string of text\u001b[39;00m\n\u001b[0;32m    636\u001b[0m \n\u001b[0;32m    637\u001b[0m \u001b[39mArgs:\u001b[39;00m\n\u001b[1;32m   (...)\u001b[0m\n\u001b[0;32m    643\u001b[0m \u001b[39m    The translated text\u001b[39;00m\n\u001b[0;32m    644\u001b[0m \u001b[39m\"\"\"\u001b[39;00m\n\u001b[0;32m    645\u001b[0m translation \u001b[39m=\u001b[39m get_translation_from_codes(from_code, to_code)\n\u001b[1;32m--> 646\u001b[0m \u001b[39mreturn\u001b[39;00m translation\u001b[39m.\u001b[39;49mtranslate(q)\n",
      "File \u001b[1;32mc:\\Users\\miskibin\\AppData\\Local\\Programs\\Python\\Python310\\lib\\site-packages\\argostranslate\\translate.py:61\u001b[0m, in \u001b[0;36mITranslation.translate\u001b[1;34m(self, input_text)\u001b[0m\n\u001b[0;32m     51\u001b[0m \u001b[39mdef\u001b[39;00m \u001b[39mtranslate\u001b[39m(\u001b[39mself\u001b[39m, input_text: \u001b[39mstr\u001b[39m) \u001b[39m-\u001b[39m\u001b[39m>\u001b[39m \u001b[39mstr\u001b[39m:\n\u001b[0;32m     52\u001b[0m     \u001b[39m\"\"\"Translates a string from self.from_lang to self.to_lang\u001b[39;00m\n\u001b[0;32m     53\u001b[0m \n\u001b[0;32m     54\u001b[0m \u001b[39m    Args:\u001b[39;00m\n\u001b[1;32m   (...)\u001b[0m\n\u001b[0;32m     59\u001b[0m \n\u001b[0;32m     60\u001b[0m \u001b[39m    \"\"\"\u001b[39;00m\n\u001b[1;32m---> 61\u001b[0m     \u001b[39mreturn\u001b[39;00m \u001b[39mself\u001b[39;49m\u001b[39m.\u001b[39;49mhypotheses(input_text, num_hypotheses\u001b[39m=\u001b[39;49m\u001b[39m1\u001b[39;49m)[\u001b[39m0\u001b[39m]\u001b[39m.\u001b[39mvalue\n",
      "File \u001b[1;32mc:\\Users\\miskibin\\AppData\\Local\\Programs\\Python\\Python310\\lib\\site-packages\\argostranslate\\translate.py:294\u001b[0m, in \u001b[0;36mCachedTranslation.hypotheses\u001b[1;34m(self, input_text, num_hypotheses)\u001b[0m\n\u001b[0;32m    288\u001b[0m \u001b[39m# If len() of our cached items are different than `num_hypotheses` it means that\u001b[39;00m\n\u001b[0;32m    289\u001b[0m \u001b[39m# the search parameter is changed by caller, so we can't re-use cache, and should update it.\u001b[39;00m\n\u001b[0;32m    290\u001b[0m \u001b[39mif\u001b[39;00m (\n\u001b[0;32m    291\u001b[0m     translated_paragraph \u001b[39mis\u001b[39;00m \u001b[39mNone\u001b[39;00m\n\u001b[0;32m    292\u001b[0m     \u001b[39mor\u001b[39;00m \u001b[39mlen\u001b[39m(translated_paragraph) \u001b[39m!=\u001b[39m num_hypotheses\n\u001b[0;32m    293\u001b[0m ):\n\u001b[1;32m--> 294\u001b[0m     translated_paragraph \u001b[39m=\u001b[39m \u001b[39mself\u001b[39;49m\u001b[39m.\u001b[39;49munderlying\u001b[39m.\u001b[39;49mhypotheses(\n\u001b[0;32m    295\u001b[0m         paragraph, num_hypotheses\n\u001b[0;32m    296\u001b[0m     )\n\u001b[0;32m    297\u001b[0m new_cache[paragraph] \u001b[39m=\u001b[39m translated_paragraph\n\u001b[0;32m    298\u001b[0m translated_paragraphs\u001b[39m.\u001b[39mappend(translated_paragraph)\n",
      "File \u001b[1;32mc:\\Users\\miskibin\\AppData\\Local\\Programs\\Python\\Python310\\lib\\site-packages\\argostranslate\\translate.py:171\u001b[0m, in \u001b[0;36mPackageTranslation.hypotheses\u001b[1;34m(self, input_text, num_hypotheses)\u001b[0m\n\u001b[0;32m    168\u001b[0m translated_paragraphs \u001b[39m=\u001b[39m []\n\u001b[0;32m    169\u001b[0m \u001b[39mfor\u001b[39;00m paragraph \u001b[39min\u001b[39;00m paragraphs:\n\u001b[0;32m    170\u001b[0m     translated_paragraphs\u001b[39m.\u001b[39mappend(\n\u001b[1;32m--> 171\u001b[0m         apply_packaged_translation(\n\u001b[0;32m    172\u001b[0m             \u001b[39mself\u001b[39;49m\u001b[39m.\u001b[39;49mpkg, paragraph, \u001b[39mself\u001b[39;49m\u001b[39m.\u001b[39;49mtranslator, num_hypotheses\n\u001b[0;32m    173\u001b[0m         )\n\u001b[0;32m    174\u001b[0m     )\n\u001b[0;32m    175\u001b[0m info(\u001b[39m\"\u001b[39m\u001b[39mtranslated_paragraphs:\u001b[39m\u001b[39m\"\u001b[39m, translated_paragraphs)\n\u001b[0;32m    177\u001b[0m \u001b[39m# Construct new hypotheses using all paragraphs\u001b[39;00m\n",
      "File \u001b[1;32mc:\\Users\\miskibin\\AppData\\Local\\Programs\\Python\\Python310\\lib\\site-packages\\argostranslate\\translate.py:459\u001b[0m, in \u001b[0;36mapply_packaged_translation\u001b[1;34m(pkg, input_text, translator, num_hypotheses)\u001b[0m\n\u001b[0;32m    457\u001b[0m \u001b[39m# Translation\u001b[39;00m\n\u001b[0;32m    458\u001b[0m BATCH_SIZE \u001b[39m=\u001b[39m \u001b[39m32\u001b[39m\n\u001b[1;32m--> 459\u001b[0m translated_batches \u001b[39m=\u001b[39m translator\u001b[39m.\u001b[39;49mtranslate_batch(\n\u001b[0;32m    460\u001b[0m     tokenized,\n\u001b[0;32m    461\u001b[0m     replace_unknowns\u001b[39m=\u001b[39;49m\u001b[39mTrue\u001b[39;49;00m,\n\u001b[0;32m    462\u001b[0m     max_batch_size\u001b[39m=\u001b[39;49mBATCH_SIZE,\n\u001b[0;32m    463\u001b[0m     beam_size\u001b[39m=\u001b[39;49m\u001b[39mmax\u001b[39;49m(num_hypotheses, \u001b[39m4\u001b[39;49m),\n\u001b[0;32m    464\u001b[0m     num_hypotheses\u001b[39m=\u001b[39;49mnum_hypotheses,\n\u001b[0;32m    465\u001b[0m     length_penalty\u001b[39m=\u001b[39;49m\u001b[39m0.2\u001b[39;49m,\n\u001b[0;32m    466\u001b[0m     return_scores\u001b[39m=\u001b[39;49m\u001b[39mTrue\u001b[39;49;00m,\n\u001b[0;32m    467\u001b[0m )\n\u001b[0;32m    468\u001b[0m info(\u001b[39m\"\u001b[39m\u001b[39mtranslated_batches\u001b[39m\u001b[39m\"\u001b[39m, translated_batches)\n\u001b[0;32m    470\u001b[0m \u001b[39m# Build hypotheses\u001b[39;00m\n",
      "\u001b[1;31mKeyboardInterrupt\u001b[0m: "
     ]
    }
   ],
   "source": [
    "# new empty df with idx, orginal_review, translated_review, sentiment, confidence\n",
    "indexes = df.index.tolist()\n",
    "bar = tqdm(total=len(indexes), desc='Processing')\n",
    "temp_df = pd.DataFrame(columns=['index', 'original_review', 'translated_review']) \n",
    "for i, idx in enumerate(indexes):\n",
    "    comment = df['comments'][idx][:400]\n",
    "    comment = comment.replace('<br/>', ' ')\n",
    "    comment = comment.replace('<br/', ' ')\n",
    "    if not isinstance(comment, str) or len(comment) < 10:\n",
    "        continue\n",
    "    lang = detect(comment)\n",
    "    bar.set_description(f'Lang: {lang}')\n",
    "    bar.update()\n",
    "    \n",
    "    if lang != 'en':\n",
    "        bar.set_description(f\"comment: {comment[:15]}\")\n",
    "        translated_comment = translate_to_en(comment, source_lang=lang)\n",
    "    else:\n",
    "        translated_comment = None\n",
    "    if not isinstance(comment, str) or len(comment) < 10:\n",
    "        continue    \n",
    "    temp_df = pd.concat([temp_df, pd.DataFrame({'index': idx, 'original_review': comment, 'translated_review': translated_comment}, index=[0])])\n",
    "    if i % 1000 == 0:\n",
    "        # save to csv\n",
    "        old_df = pd.read_csv(file)\n",
    "        new_df = pd.concat([old_df, temp_df])\n",
    "        new_df.to_csv(file, index=False)\n",
    "        temp_df = pd.DataFrame(columns=['index', 'original_review', 'translated_review'])\n"
   ]
  },
  {
   "cell_type": "code",
   "execution_count": null,
   "metadata": {},
   "outputs": [],
   "source": [
    "\n",
    "random_reviews = [r for r in random_reviews if isinstance(r, str)]\n",
    "sentiment_pipeline = pipeline(\"sentiment-analysis\")\n",
    "preds = sentiment_pipeline(random_reviews)"
   ]
  },
  {
   "cell_type": "code",
   "execution_count": null,
   "metadata": {},
   "outputs": [],
   "source": [
    "\n",
    "reviews_df  = pd.DataFrame(random_reviews, columns=['reviews'])\n",
    "reviews_df['sentiment'] = [pred['label'] for pred in preds]\n",
    "reviews_df['score'] = [pred['score'] for pred in preds]\n",
    "reviews_df"
   ]
  },
  {
   "cell_type": "code",
   "execution_count": null,
   "metadata": {},
   "outputs": [],
   "source": [
    "plt.style.use('ggplot')\n",
    "reviews_df['sentiment'].value_counts().plot(kind='bar')\n",
    "plt.title('Sentiment Analysis')\n",
    "plt.xlabel('Sentiment')\n",
    "plt.ylabel('Count')\n",
    "plt.show()\n"
   ]
  },
  {
   "cell_type": "code",
   "execution_count": null,
   "metadata": {},
   "outputs": [],
   "source": [
    "# print all reviews with negative sentiment\n",
    "neg = reviews_df[reviews_df['sentiment'] == 'NEGATIVE']\n",
    "for i, row in neg.iterrows():\n",
    "    print(row['score'],  row['reviews'])\n",
    "    print('-'*50)"
   ]
  },
  {
   "cell_type": "code",
   "execution_count": null,
   "metadata": {},
   "outputs": [],
   "source": [
    "# plot score\n",
    "plt.hist(reviews_df['score'])\n",
    "plt.title('Sentiment Score')\n",
    "plt.xlabel('Score')\n",
    "plt.ylabel('Count')\n",
    "plt.show()\n"
   ]
  }
 ],
 "metadata": {
  "kernelspec": {
   "display_name": "Python 3",
   "language": "python",
   "name": "python3"
  },
  "language_info": {
   "codemirror_mode": {
    "name": "ipython",
    "version": 3
   },
   "file_extension": ".py",
   "mimetype": "text/x-python",
   "name": "python",
   "nbconvert_exporter": "python",
   "pygments_lexer": "ipython3",
   "version": "3.10.5"
  },
  "orig_nbformat": 4
 },
 "nbformat": 4,
 "nbformat_minor": 2
}
